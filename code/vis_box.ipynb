{
 "cells": [
  {
   "cell_type": "markdown",
   "source": [
    "## Visualize Ground-Truth Shape Hierarchy of Graphs and Edge Relationships"
   ],
   "metadata": {
    "readonly": true,
    "slideshow": {
     "slide_type": "-"
    }
   }
  },
  {
   "cell_type": "code",
   "execution_count": 1,
   "source": [
    "%matplotlib notebook\n",
    "\n",
    "import os\n",
    "import matplotlib\n",
    "from data import PartNetDataset\n",
    "from vis_utils import draw_partnet_objects\n",
    "\n",
    "matplotlib.pyplot.ion()\n",
    "\n",
    "# ground-truth data directory\n",
    "root_dir = '../data/partnetdata/chair_hier'\n",
    "\n",
    "# read all data\n",
    "obj_list = sorted([int(item.split('.')[0]) for item in os.listdir(root_dir) if item.endswith('.json')])\n",
    "\n",
    "# visualize one data\n",
    "obj_id = 0\n",
    "obj = PartNetDataset.load_object(os.path.join(root_dir, str(obj_list[obj_id])+'.json'))\n",
    "\n",
    "# edge visu: ADJ (red), ROT_SYM (yellow), TRANS_SYM (purple), REF_SYM (black)\n",
    "draw_partnet_objects(objects=[obj], object_names=[str(obj_list[obj_id])], \n",
    "                     figsize=(9, 5), leafs_only=True, visu_edges=True,\n",
    "                     sem_colors_filename='../stats/semantics_colors/Chair.txt')\n",
    "\n",
    "print('PartNet Hierarchy: (the number in bracket corresponds to PartNet part_id)')\n",
    "print(obj)"
   ],
   "outputs": [
    {
     "output_type": "stream",
     "name": "stdout",
     "text": [
      "PartNet Hierarchy: (the number in bracket corresponds to PartNet part_id)\n",
      "0 chair    {0}\n",
      "  ├0 chair_back    {1}\n",
      "  |  ├0 back_surface    {2}\n",
      "  |  |  ├0 back_surface_vertical_bar [LEAF] {3}\n",
      "  |  |  ├1 back_surface_vertical_bar [LEAF] {4}\n",
      "  |  |  ├2 back_surface_vertical_bar [LEAF] {5}\n",
      "  |  |  ├3 back_surface_vertical_bar [LEAF] {6}\n",
      "  |  |  ├4 back_surface_horizontal_bar [LEAF] {7}\n",
      "  |  |  ├5 back_surface_vertical_bar [LEAF] {8}\n",
      "  ├1 chair_seat    {9}\n",
      "  |  ├0 seat_surface    {10}\n",
      "  |  |  ├0 seat_single_surface [LEAF] {11}\n",
      "  ├2 chair_base    {12}\n",
      "  |  ├0 regular_leg_base    {13}\n",
      "  |  |  ├0 leg [LEAF] {14}\n",
      "  |  |  ├1 leg [LEAF] {15}\n",
      "  |  |  ├2 leg [LEAF] {16}\n",
      "  |  |  ├3 leg [LEAF] {17}\n",
      "\n"
     ]
    }
   ],
   "metadata": {}
  },
  {
   "cell_type": "markdown",
   "source": [
    "## Box-shape AE Reconstruction"
   ],
   "metadata": {}
  },
  {
   "cell_type": "code",
   "execution_count": 2,
   "source": [
    "%matplotlib notebook\n",
    "\n",
    "import os\n",
    "import matplotlib\n",
    "from data import PartNetDataset\n",
    "from vis_utils import draw_partnet_objects\n",
    "\n",
    "matplotlib.pyplot.ion()\n",
    "\n",
    "# results directory\n",
    "root_dir = '../data/results/pre_trained/box_ae_chair'\n",
    "\n",
    "# read all data\n",
    "obj_list = sorted([int(item) for item in os.listdir(root_dir) if os.path.isdir(os.path.join(root_dir, item))])\n",
    "\n",
    "# visualize one data\n",
    "obj_id = 2\n",
    "obj_dir = os.path.join(root_dir, str(obj_list[obj_id]))\n",
    "print(obj_dir)\n",
    "\n",
    "orig_obj = PartNetDataset.load_object(os.path.join(obj_dir, 'orig.json'))\n",
    "recon_obj = PartNetDataset.load_object(os.path.join(obj_dir, 'recon.json'))\n",
    "    \n",
    "stat_filename = os.path.join(obj_dir, 'stats.txt')\n",
    "with open(stat_filename, 'r') as stat_file:\n",
    "    stats = stat_file.readlines()\n",
    "stats = [x.strip() for x in stats]\n",
    "stats = list(filter(None, stats))\n",
    "for stat in stats:\n",
    "    print(stat)\n",
    "\n",
    "draw_partnet_objects(objects=[orig_obj, recon_obj], object_names=['original', 'reconstruction'], \n",
    "                     figsize=(9, 5), leafs_only=True, visu_edges=True,\n",
    "                     sem_colors_filename='../stats/semantics_colors/Chair.txt')\n",
    "\n",
    "print('Original Structure:')\n",
    "print(orig_obj)\n",
    "print('Reconstructed Structure:')\n",
    "print(recon_obj)"
   ],
   "outputs": [
    {
     "output_type": "error",
     "ename": "FileNotFoundError",
     "evalue": "[Errno 2] No such file or directory: '../data/results/box_ae_chair'",
     "traceback": [
      "\u001b[0;31m---------------------------------------------------------------------------\u001b[0m",
      "\u001b[0;31mFileNotFoundError\u001b[0m                         Traceback (most recent call last)",
      "\u001b[0;32m<ipython-input-2-e9463112267b>\u001b[0m in \u001b[0;36m<module>\u001b[0;34m\u001b[0m\n\u001b[1;32m     12\u001b[0m \u001b[0;34m\u001b[0m\u001b[0m\n\u001b[1;32m     13\u001b[0m \u001b[0;31m# read all data\u001b[0m\u001b[0;34m\u001b[0m\u001b[0;34m\u001b[0m\u001b[0;34m\u001b[0m\u001b[0m\n\u001b[0;32m---> 14\u001b[0;31m \u001b[0mobj_list\u001b[0m \u001b[0;34m=\u001b[0m \u001b[0msorted\u001b[0m\u001b[0;34m(\u001b[0m\u001b[0;34m[\u001b[0m\u001b[0mint\u001b[0m\u001b[0;34m(\u001b[0m\u001b[0mitem\u001b[0m\u001b[0;34m)\u001b[0m \u001b[0;32mfor\u001b[0m \u001b[0mitem\u001b[0m \u001b[0;32min\u001b[0m \u001b[0mos\u001b[0m\u001b[0;34m.\u001b[0m\u001b[0mlistdir\u001b[0m\u001b[0;34m(\u001b[0m\u001b[0mroot_dir\u001b[0m\u001b[0;34m)\u001b[0m \u001b[0;32mif\u001b[0m \u001b[0mos\u001b[0m\u001b[0;34m.\u001b[0m\u001b[0mpath\u001b[0m\u001b[0;34m.\u001b[0m\u001b[0misdir\u001b[0m\u001b[0;34m(\u001b[0m\u001b[0mos\u001b[0m\u001b[0;34m.\u001b[0m\u001b[0mpath\u001b[0m\u001b[0;34m.\u001b[0m\u001b[0mjoin\u001b[0m\u001b[0;34m(\u001b[0m\u001b[0mroot_dir\u001b[0m\u001b[0;34m,\u001b[0m \u001b[0mitem\u001b[0m\u001b[0;34m)\u001b[0m\u001b[0;34m)\u001b[0m\u001b[0;34m]\u001b[0m\u001b[0;34m)\u001b[0m\u001b[0;34m\u001b[0m\u001b[0;34m\u001b[0m\u001b[0m\n\u001b[0m\u001b[1;32m     15\u001b[0m \u001b[0;34m\u001b[0m\u001b[0m\n\u001b[1;32m     16\u001b[0m \u001b[0;31m# visualize one data\u001b[0m\u001b[0;34m\u001b[0m\u001b[0;34m\u001b[0m\u001b[0;34m\u001b[0m\u001b[0m\n",
      "\u001b[0;31mFileNotFoundError\u001b[0m: [Errno 2] No such file or directory: '../data/results/box_ae_chair'"
     ]
    }
   ],
   "metadata": {}
  },
  {
   "cell_type": "markdown",
   "source": [
    "## Box-shape VAE Free Generation"
   ],
   "metadata": {}
  },
  {
   "cell_type": "code",
   "execution_count": 23,
   "source": [
    "%matplotlib notebook\n",
    "\n",
    "import os\n",
    "import matplotlib\n",
    "from data import PartNetDataset\n",
    "from vis_utils import draw_partnet_objects\n",
    "\n",
    "matplotlib.pyplot.ion()\n",
    "\n",
    "# results directory\n",
    "root_dir = '../data/results/box_vae_chair'\n",
    "\n",
    "# read all data\n",
    "obj_list = sorted([item for item in os.listdir(root_dir) if item.endswith('.json')])\n",
    "\n",
    "# visualize one data\n",
    "obj_id = 0\n",
    "obj = PartNetDataset.load_object(os.path.join(root_dir, obj_list[obj_id]))\n",
    "\n",
    "draw_partnet_objects(objects=[obj], object_names=[obj_list[obj_id]], \n",
    "                     figsize=(9, 5), leafs_only=True, visu_edges=True, \n",
    "                     sem_colors_filename='../stats/semantics_colors/Chair.txt')\n",
    "\n",
    "print('Tree Structure:')\n",
    "print(obj)"
   ],
   "outputs": [
    {
     "output_type": "error",
     "ename": "FileNotFoundError",
     "evalue": "[Errno 2] No such file or directory: '../data/results/box_vae_bed'",
     "traceback": [
      "\u001b[0;31m---------------------------------------------------------------------------\u001b[0m",
      "\u001b[0;31mFileNotFoundError\u001b[0m                         Traceback (most recent call last)",
      "\u001b[0;32m<ipython-input-23-4930e2fb419f>\u001b[0m in \u001b[0;36m<module>\u001b[0;34m\u001b[0m\n\u001b[1;32m     12\u001b[0m \u001b[0;34m\u001b[0m\u001b[0m\n\u001b[1;32m     13\u001b[0m \u001b[0;31m# read all data\u001b[0m\u001b[0;34m\u001b[0m\u001b[0;34m\u001b[0m\u001b[0m\n\u001b[0;32m---> 14\u001b[0;31m \u001b[0mobj_list\u001b[0m \u001b[0;34m=\u001b[0m \u001b[0msorted\u001b[0m\u001b[0;34m(\u001b[0m\u001b[0;34m[\u001b[0m\u001b[0mitem\u001b[0m \u001b[0;32mfor\u001b[0m \u001b[0mitem\u001b[0m \u001b[0;32min\u001b[0m \u001b[0mos\u001b[0m\u001b[0;34m.\u001b[0m\u001b[0mlistdir\u001b[0m\u001b[0;34m(\u001b[0m\u001b[0mroot_dir\u001b[0m\u001b[0;34m)\u001b[0m \u001b[0;32mif\u001b[0m \u001b[0mitem\u001b[0m\u001b[0;34m.\u001b[0m\u001b[0mendswith\u001b[0m\u001b[0;34m(\u001b[0m\u001b[0;34m'.json'\u001b[0m\u001b[0;34m)\u001b[0m\u001b[0;34m]\u001b[0m\u001b[0;34m)\u001b[0m\u001b[0;34m\u001b[0m\u001b[0m\n\u001b[0m\u001b[1;32m     15\u001b[0m \u001b[0;34m\u001b[0m\u001b[0m\n\u001b[1;32m     16\u001b[0m \u001b[0;31m# visualize one data\u001b[0m\u001b[0;34m\u001b[0m\u001b[0;34m\u001b[0m\u001b[0m\n",
      "\u001b[0;31mFileNotFoundError\u001b[0m: [Errno 2] No such file or directory: '../data/results/box_vae_bed'"
     ]
    }
   ],
   "metadata": {}
  },
  {
   "cell_type": "code",
   "execution_count": null,
   "source": [],
   "outputs": [],
   "metadata": {}
  }
 ],
 "metadata": {
  "kernelspec": {
   "name": "python3",
   "display_name": "Python 3.6.13 64-bit ('structure': conda)"
  },
  "language_info": {
   "codemirror_mode": {
    "name": "ipython",
    "version": 3
   },
   "file_extension": ".py",
   "mimetype": "text/x-python",
   "name": "python",
   "nbconvert_exporter": "python",
   "pygments_lexer": "ipython3",
   "version": "3.6.13"
  },
  "interpreter": {
   "hash": "be87f11515439116725580701b912212a915932c5e107c9cf08e697b7bd3ddc8"
  }
 },
 "nbformat": 4,
 "nbformat_minor": 2
}